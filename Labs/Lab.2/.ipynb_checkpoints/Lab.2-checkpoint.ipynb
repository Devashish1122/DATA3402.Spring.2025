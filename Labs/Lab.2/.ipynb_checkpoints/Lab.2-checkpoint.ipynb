{
 "cells": [
  {
   "cell_type": "markdown",
   "metadata": {},
   "source": [
    "## Lab 2- Tic Tac Toe\n",
    "\n",
    "In this lab your will build a n x n Tic Tac Toe game. As you do the exercises, make sure your solutions work for any size Tic Tac Toe game. "
   ]
  },
  {
   "cell_type": "markdown",
   "metadata": {},
   "source": [
    "*Exercise 1:* Write a function that creates an n by n matrix (of list of lists) which will represent the state of a Tie Tac Toe game. Let 0, 1, and 2 represent empty, \"X\", and \"O\", respectively.\n"
   ]
  },
  {
   "cell_type": "code",
   "execution_count": 2,
   "metadata": {},
   "outputs": [],
   "source": [
    "def create_board(n):\n",
    "    board = [[0 for i in range(n)] for i in range(n)]\n",
    "    return board\n",
    "\n",
    "    "
   ]
  },
  {
   "cell_type": "code",
   "execution_count": 5,
   "metadata": {},
   "outputs": [
    {
     "name": "stdout",
     "output_type": "stream",
     "text": [
      "[0, 0, 0]\n",
      "[0, 0, 0]\n",
      "[0, 0, 0]\n"
     ]
    }
   ],
   "source": [
    "board = create_board(3)\n",
    "for rows in board:\n",
    "    print (rows)"
   ]
  },
  {
   "cell_type": "markdown",
   "metadata": {},
   "source": [
    "*Exercise 2:* Write a function that takes 2 integers `n` and `m` as input and draws a `n` by `m` game board. For example the following is a 3x3 board:\n",
    "```\n",
    "   --- --- --- \n",
    "  |   |   |   | \n",
    "   --- --- ---  \n",
    "  |   |   |   | \n",
    "   --- --- ---  \n",
    "  |   |   |   | \n",
    "   --- --- --- \n",
    "   ```"
   ]
  },
  {
   "cell_type": "code",
   "execution_count": 6,
   "metadata": {},
   "outputs": [],
   "source": [
    "def draw_game_board(n,m):\n",
    "    for row in range(n):\n",
    "        print(\" ---\" *m) #Horizontal lines\n",
    "        print(\"|   \" *(m+1)) #Vertical lines\n",
    "        \n",
    "    print(\" ---\"*m)"
   ]
  },
  {
   "cell_type": "code",
   "execution_count": 7,
   "metadata": {},
   "outputs": [
    {
     "name": "stdout",
     "output_type": "stream",
     "text": [
      " --- --- ---\n",
      "|   |   |   |   \n",
      " --- --- ---\n",
      "|   |   |   |   \n",
      " --- --- ---\n",
      "|   |   |   |   \n",
      " --- --- ---\n"
     ]
    }
   ],
   "source": [
    "Board1 = draw_game_board(3,3)\n",
    "Board1"
   ]
  },
  {
   "cell_type": "markdown",
   "metadata": {},
   "source": [
    "*Exercise 3:* Modify exercise 2, so that it takes a matrix of the form from exercise 1 and draws a tic-tac-tie board with \"X\"s and \"O\"s.  "
   ]
  },
  {
   "cell_type": "code",
   "execution_count": 8,
   "metadata": {},
   "outputs": [],
   "source": [
    "def draw_tic_tac_toe_board(matrix):\n",
    "    for row in matrix:\n",
    "        formatted_row = [\"X\" if cell == 1 else \"O\" if cell ==2 else \" \" for cell in row]\n",
    "        print(\" | \".join(formatted_row))\n",
    "        print(\"-\" * (len(row)*4 -1))"
   ]
  },
  {
   "cell_type": "code",
   "execution_count": 9,
   "metadata": {},
   "outputs": [
    {
     "name": "stdout",
     "output_type": "stream",
     "text": [
      "X | O |  \n",
      "-----------\n",
      "  | O |  \n",
      "-----------\n",
      "  | X |  \n",
      "-----------\n"
     ]
    }
   ],
   "source": [
    "Board =[  \n",
    "    [1, 2, 0],\n",
    "    [0, 2, 0],\n",
    "    [0, 1, 0]\n",
    "]\n",
    "\n",
    "draw_tic_tac_toe_board(Board)"
   ]
  },
  {
   "cell_type": "markdown",
   "metadata": {},
   "source": [
    "*Exercise 4:* Write a function that takes a `n` by `n` matrix representing a tic-tac-toe game, and returns -1, 0, 1, or 2 indicating the game is incomplete, the game is a draw, player 1 has won, or player 2 has one, respectively. Here are some example inputs you can use to test your code:"
   ]
  },
  {
   "cell_type": "code",
   "execution_count": 10,
   "metadata": {},
   "outputs": [],
   "source": [
    "def game_result(board):\n",
    "    n = len(board)\n",
    "    for row in board:\n",
    "        if row[0]!=0 and all(cell == row[0] for cell in row):\n",
    "            return[0]\n",
    "        \n",
    "    for col in range(n):\n",
    "        first_value = board[0][col]           \n",
    "        if first_value != 0 and all(board[row][col] == first_value for row in range(n)):\n",
    "            return first_value\n",
    "        \n",
    "    if board[0][0]!= 0 and all(board[i][i] == board[0][0] for i in range(n)):\n",
    "        return board[0][0]\n",
    "    \n",
    "    \n",
    "    if board[0][n-1]!= 0 and all(board[i][n-1-i] == board[0][n-1] for i in range(n)):\n",
    "        return board[0][n-1]\n",
    "    \n",
    "    for row in board:\n",
    "        if 0  in row:\n",
    "            return -1\n",
    "        \n",
    "    return 0"
   ]
  },
  {
   "cell_type": "code",
   "execution_count": 11,
   "metadata": {},
   "outputs": [
    {
     "data": {
      "text/plain": [
       "-1"
      ]
     },
     "execution_count": 11,
     "metadata": {},
     "output_type": "execute_result"
    }
   ],
   "source": [
    "board3 = winner_is_2 = [[1, 2, 0],\n",
    "[2, 1, 0],\n",
    "[2, 1, 2]]\n",
    "game_result(board3)"
   ]
  },
  {
   "cell_type": "code",
   "execution_count": 15,
   "metadata": {},
   "outputs": [],
   "source": [
    "winner_is_2 = [[2, 2, 0],\n",
    "\t[2, 1, 0],\n",
    "\t[2, 1, 1]]\n",
    "\n",
    "winner_is_1 = [[1, 2, 0],\n",
    "\t[2, 1, 0],\n",
    "\t[2, 1, 1]]\n",
    "\n",
    "winner_is_also_1 = [[0, 1, 0],\n",
    "\t[2, 1, 0],\n",
    "\t[2, 1, 1]]\n",
    "\n",
    "no_winner = [[1, 2, 0],\n",
    "\t[2, 1, 0],\n",
    "\t[2, 1, 2]]\n",
    "\n",
    "also_no_winner = [[1, 2, 0],\n",
    "\t[2, 1, 0],\n",
    "\t[2, 1, 0]]"
   ]
  },
  {
   "cell_type": "markdown",
   "metadata": {},
   "source": [
    "*Exercise 5:* Write a function that takes a game board, player number, and `(x,y)` coordinates and places \"X\" or \"O\" in the correct location of the game board. Make sure that you only allow filling previously empty locations. Return `True` or `False` to indicate successful placement of \"X\" or \"O\"."
   ]
  },
  {
   "cell_type": "code",
   "execution_count": 16,
   "metadata": {},
   "outputs": [],
   "source": [
    "def place_move(board, player,x,y):\n",
    "    n = len(board)\n",
    "    if x < 0 or  x >= n or y < 0 or y >= n:\n",
    "        return False\n",
    "    \n",
    "    if board[x][y] != \" \":\n",
    "        return False\n",
    "    \n",
    "    if player == 1:\n",
    "        board[x][y]= \"X\"\n",
    "        \n",
    "    elif player == 2:\n",
    "        board[x][y] = \"O\"\n",
    "        \n",
    "    else:\n",
    "        return False\n",
    "    \n",
    "    return True"
   ]
  },
  {
   "cell_type": "code",
   "execution_count": 17,
   "metadata": {},
   "outputs": [
    {
     "name": "stdout",
     "output_type": "stream",
     "text": [
      "True\n",
      "True\n",
      "True\n",
      "True\n",
      "True\n",
      "True\n",
      "True\n",
      "True\n",
      "X | O | O\n",
      "X | X | O\n",
      "X |   | O\n"
     ]
    }
   ],
   "source": [
    "board = [[\" \" for _ in range(3)] for _ in range(3)]\n",
    "print(place_move(board, 1, 1,1))\n",
    "print(place_move(board, 2, 0,1))\n",
    "print(place_move(board, 1, 0,0))\n",
    "print(place_move(board, 2, 2,2))\n",
    "print(place_move(board, 1, 2,0))\n",
    "print(place_move(board, 2, 0,2))\n",
    "print(place_move(board, 1, 1,0))\n",
    "print(place_move(board, 2, 1,2))\n",
    "\n",
    "for row in board:\n",
    "    print (\" | \".join(row))\n",
    "    "
   ]
  },
  {
   "cell_type": "markdown",
   "metadata": {},
   "source": [
    "*Exercise 6:* Modify Exercise 3 to show column and row labels so that players can specify location using \"A2\" or \"C1\"."
   ]
  },
  {
   "cell_type": "code",
   "execution_count": 18,
   "metadata": {},
   "outputs": [],
   "source": [
    "def labels(board):\n",
    "    n = len(board)\n",
    "    column = [chr(ord('A') + i) for i in range(n)]\n",
    "    headers = \"  \"+\"  \".join(column)\n",
    "    print(headers)\n",
    "    for row_index, row in enumerate(board):\n",
    "        formatted_row = [\"X\" if cell == 1 else \"O\" if cell == 2  else \"  \" for cell in row]\n",
    "        row_str = \" | \".join(formatted_row)\n",
    "        print(f\"{row_index + 1} {row_str}\")\n",
    "        if row_index != n-1:\n",
    "            seprator = \"  \"+(\"---+\"* (n-1)) + \"---\"\n",
    "            print(seprator)\n",
    "            \n"
   ]
  },
  {
   "cell_type": "code",
   "execution_count": 19,
   "metadata": {},
   "outputs": [
    {
     "name": "stdout",
     "output_type": "stream",
     "text": [
      "  A  B  C\n",
      "1    |    |   \n",
      "  ---+---+---\n",
      "2    |    |   \n",
      "  ---+---+---\n",
      "3    |    |   \n"
     ]
    }
   ],
   "source": [
    "labels(board)"
   ]
  },
  {
   "cell_type": "markdown",
   "metadata": {},
   "source": [
    "*Exercise 7:* Write a function that takes a board, player number, and location specified as in exercise 6 and then calls exercise 5 to correctly modify the board.  "
   ]
  },
  {
   "cell_type": "code",
   "execution_count": 20,
   "metadata": {},
   "outputs": [],
   "source": [
    "def setup(board, player, location):\n",
    "    column_letter = location[0].upper()\n",
    "    row_number = int(location[1:]) -1\n",
    "    column_index = ord(column_letter) - ord('A')\n",
    "    return place_move(board, player, row_number,column_index)"
   ]
  },
  {
   "cell_type": "code",
   "execution_count": 21,
   "metadata": {},
   "outputs": [
    {
     "name": "stdout",
     "output_type": "stream",
     "text": [
      "True\n",
      "X |   |  \n",
      "  |   |  \n",
      "  |   |  \n"
     ]
    }
   ],
   "source": [
    "board = [[\" \" for _ in range(3)] for _  in range(3)]\n",
    "print(setup(board, 1, \"A1\"))\n",
    "for row in board:\n",
    "    print(' | '.join(row))"
   ]
  },
  {
   "cell_type": "markdown",
   "metadata": {},
   "source": [
    "*Exercise 8:* Write a function is called with a board and player number, takes input from the player using python's `input`, and modifies the board using your function from exercise 7. Note that you should keep asking for input until you have gotten a valid input that results in a valid move."
   ]
  },
  {
   "cell_type": "code",
   "execution_count": 22,
   "metadata": {},
   "outputs": [],
   "source": [
    "def player_move(board, player):\n",
    "    while True:\n",
    "        location = input(f\"Player {player} ({\"X\" if player == 1 else \"0\"}), enter your move:\").strip()\n",
    "        if setup(board, player, location):\n",
    "            print(f'move placed for {location}')\n",
    "            break\n",
    "        else:\n",
    "            print(f'invalid move for {location}. Please try again')"
   ]
  },
  {
   "cell_type": "code",
   "execution_count": 24,
   "metadata": {},
   "outputs": [
    {
     "name": "stdout",
     "output_type": "stream",
     "text": [
      "Player 1 (X), enter your move:A1\n",
      "invalid move for A1. Please try again\n",
      "Player 1 (X), enter your move:A2\n",
      "move placed for A2\n"
     ]
    }
   ],
   "source": [
    "player_move(board, 1)"
   ]
  },
  {
   "cell_type": "markdown",
   "metadata": {},
   "source": [
    "*Exercise 9:* Use all of the previous exercises to implement a full tic-tac-toe game, where an appropriate board is drawn, 2 players are repeatedly asked for a location coordinates of where they wish to place a mark, and the game status is checked until a player wins or a draw occurs."
   ]
  },
  {
   "cell_type": "code",
   "execution_count": 28,
   "metadata": {},
   "outputs": [],
   "source": [
    "def tic_tac_toe():\n",
    "    board = [[\" \" for _ in range(3)] for _ in range(3)]\n",
    "    \n",
    "    print(\"Welcome to Tic-Tac-Toe!\")\n",
    "    labels(board)\n",
    "    current_player = 1 \n",
    "    game_over = False\n",
    "    while not game_over:\n",
    "        player_move(board, current_player)\n",
    "        labels(board)\n",
    "        status = evaluate_tic_tac_toe(board)\n",
    "        if status == 1:\n",
    "            print(\"Player 1 (X) wins!\")\n",
    "            game_over = True\n",
    "        elif status == 2:\n",
    "            print(\"Player 2 (O) wins!\")\n",
    "            game_over = True\n",
    "        elif status == 0:\n",
    "            print(\"It's a draw!\")\n",
    "            game_over = True\n",
    "        else:\n",
    "            current_player = 2 if current_player == 1 else 1\n",
    "\n",
    "def labels(board):\n",
    "    n = len(board)\n",
    "    columns = [chr(ord('A') + i) for i in range(n)]\n",
    "    header = \"    \" + \"   \".join(columns)\n",
    "    print(header)\n",
    "    for row_index, row in enumerate(board):\n",
    "        formatted_row = [\"X\" if cell == 1 else \"O\" if cell == 2 else \" \" for cell in row]\n",
    "        print(f\"{row_index + 1}  \" + \" | \".join(formatted_row))\n",
    "        if row_index != n - 1:\n",
    "            print(\"   \" + (\"---+\" * (n - 1)) + \"---\")\n",
    "\n",
    "def setup(board, player, location):\n",
    "    column_letter = location[0].upper()\n",
    "    row_number = int(location[1:]) -1\n",
    "    column_index = ord(column_letter) - ord('A')\n",
    "    return place_move(board, player, row_number,column_index)\n",
    "\n",
    "def place_move(board, player, x, y):\n",
    "    if x < 0 or x >= len(board) or y < 0 or y >= len(board):\n",
    "        return False\n",
    "    if board[x][y] != \" \":\n",
    "        return False\n",
    "    board[x][y] == \"X\" if player == 1 else \"O\"\n",
    "    return True\n",
    "\n",
    "def player_move(board, player):\n",
    "    while True:\n",
    "        location = input(f\"Player {player} ({'X' if player == 1 else 'O'}), enter your move: \").strip()\n",
    "        if setup(board, player, location):\n",
    "            print(f\"Move accepted: {location}\")\n",
    "            break\n",
    "        else:\n",
    "            print(f\"Invalid move: {location}. Please try again.\")\n",
    "\n",
    "def evaluate_tic_tac_toe(board):\n",
    "    n = len(board)\n",
    "    for row in board:\n",
    "        if row[0] != \" \" and all(cell == row[0] for cell in row):\n",
    "            return 1 if row[0] == \"X\" else 2\n",
    "    for col in range(n):\n",
    "        first_val = board[0][col]\n",
    "        if first_val != \" \" and all(board[row][col] == first_val for row in range(n)):\n",
    "            return 1 if first_val == \"X\" else 2\n",
    "    if board[0][0] != \" \" and all(board[i][i] == board[0][0] for i in range(n)):\n",
    "        return 1 if board[0][0] == \"X\" else 2\n",
    "    if board[0][n-1] != \" \" and all(board[i][n-1-i] == board[0][n-1] for i in range(n)):\n",
    "        return 1 if board[0][n-1] == \"X\" else 2\n",
    "    for row in board:\n",
    "        if \" \" in row:\n",
    "            return 0"
   ]
  },
  {
   "cell_type": "code",
   "execution_count": 30,
   "metadata": {},
   "outputs": [
    {
     "name": "stdout",
     "output_type": "stream",
     "text": [
      "Welcome to Tic-Tac-Toe!\n",
      "    A   B   C\n",
      "1    |   |  \n",
      "   ---+---+---\n",
      "2    |   |  \n",
      "   ---+---+---\n",
      "3    |   |  \n",
      "Player 1 (X), enter your move: A1\n",
      "Move accepted: A1\n",
      "    A   B   C\n",
      "1    |   |  \n",
      "   ---+---+---\n",
      "2    |   |  \n",
      "   ---+---+---\n",
      "3    |   |  \n",
      "It's a draw!\n"
     ]
    }
   ],
   "source": [
    "tic_tac_toe()"
   ]
  },
  {
   "cell_type": "markdown",
   "metadata": {},
   "source": [
    "*Exercise 10:* Test that your game works for 5x5 Tic Tac Toe.  "
   ]
  },
  {
   "cell_type": "code",
   "execution_count": null,
   "metadata": {
    "collapsed": true
   },
   "outputs": [],
   "source": [
    "# Test your solution here"
   ]
  },
  {
   "cell_type": "markdown",
   "metadata": {},
   "source": [
    "*Exercise 11:* (Advanced / Challenge) Develop a version of the game where one player is the computer. Note that you don't need to do an extensive seach for the best move. You can have the computer simply protect against loosing and otherwise try to win with straight or diagonal patterns."
   ]
  },
  {
   "cell_type": "code",
   "execution_count": null,
   "metadata": {
    "collapsed": true
   },
   "outputs": [],
   "source": [
    "# Write you solution here"
   ]
  },
  {
   "cell_type": "code",
   "execution_count": null,
   "metadata": {
    "collapsed": true
   },
   "outputs": [],
   "source": [
    "# Test your solution here"
   ]
  }
 ],
 "metadata": {
  "kernelspec": {
   "display_name": "Python 3 (ipykernel)",
   "language": "python",
   "name": "python3"
  },
  "language_info": {
   "codemirror_mode": {
    "name": "ipython",
    "version": 3
   },
   "file_extension": ".py",
   "mimetype": "text/x-python",
   "name": "python",
   "nbconvert_exporter": "python",
   "pygments_lexer": "ipython3",
   "version": "3.12.3"
  }
 },
 "nbformat": 4,
 "nbformat_minor": 2
}
